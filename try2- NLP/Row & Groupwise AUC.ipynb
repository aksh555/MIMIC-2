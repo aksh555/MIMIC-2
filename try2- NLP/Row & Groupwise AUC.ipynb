{
 "cells": [
  {
   "cell_type": "code",
   "execution_count": 1,
   "metadata": {},
   "outputs": [],
   "source": [
    "import pandas as pd\n",
    "import numpy as np"
   ]
  },
  {
   "cell_type": "code",
   "execution_count": 2,
   "metadata": {},
   "outputs": [],
   "source": [
    "x_train_txt = np.load('x_train.npy') \n",
    "x_test_txt = np.load('x_test.npy')\n",
    "test_val_txt = np.load('test_val.npy') \n",
    "y_test_txt = np.load('y_test.npy')\n",
    "y_train_txt = np.load('y_train.npy')\n",
    "y_val_txt = np.load('y_val.npy')"
   ]
  },
  {
   "cell_type": "code",
   "execution_count": 16,
   "metadata": {},
   "outputs": [],
   "source": [
    "y_pred_transformer_test=pd.read_pickle(\"./y_pred_transformer_approach3_test.pkl\")\n",
    "y_pred_transformer_val=pd.read_pickle(\"./y_pred_transformer_approach3_val.pkl\")\n",
    "y_pred_caps_test=pd.read_pickle(\"./y_pred_capsnet_new3_test.pkl\")\n",
    "y_pred_caps_val=pd.read_pickle(\"./y_pred_capsnet_new3_val.pkl\")\n",
    "\n",
    "\n",
    "df1 = pd.read_pickle(\"./str+rad_text-combined.pkl\")\n",
    "df= df1.drop([\"SUBJECT_ID\",\"text\",\"HADM_ID\"],axis=1)\n",
    "\n",
    "x = df.iloc[:,:483]\n",
    "y = df.iloc[:,483:]"
   ]
  },
  {
   "cell_type": "code",
   "execution_count": 17,
   "metadata": {},
   "outputs": [],
   "source": [
    "from sklearn.model_selection import train_test_split\n",
    "#train,test,val \n",
    "seed = 40\n",
    "x_tra,x_test,y_tra,y_test = train_test_split(x,y,test_size=0.15,random_state=seed)\n",
    "x_train,x_val,y_train,y_val = train_test_split(x_tra,y_tra,test_size = 0.2,random_state=seed)\n",
    "\n",
    "# Structured models\n",
    "\n",
    "from sklearn.externals import joblib\n",
    "cat = joblib.load(\"/home/akshara/MIMIC-Project/try1/CAT_40.pkl\")\n",
    "lgb = joblib.load(\"/home/akshara/MIMIC-Project/try1/LGBM_40.pkl\")\n",
    "\n",
    "y_pred_cat_test = cat.predict(x_test)\n",
    "y_pred_lgb_test = lgb.predict(x_test)\n",
    "y_pred_cat_val = cat.predict(x_val)\n",
    "y_pred_lgb_val = lgb.predict(x_val)\n",
    "\n",
    "\n",
    "\n"
   ]
  },
  {
   "cell_type": "code",
   "execution_count": 51,
   "metadata": {},
   "outputs": [
    {
     "data": {
      "text/plain": [
       "100001"
      ]
     },
     "execution_count": 51,
     "metadata": {},
     "output_type": "execute_result"
    }
   ],
   "source": [
    "df1.iloc[0,2]"
   ]
  },
  {
   "cell_type": "code",
   "execution_count": 52,
   "metadata": {},
   "outputs": [
    {
     "data": {
      "text/html": [
       "<div>\n",
       "<style scoped>\n",
       "    .dataframe tbody tr th:only-of-type {\n",
       "        vertical-align: middle;\n",
       "    }\n",
       "\n",
       "    .dataframe tbody tr th {\n",
       "        vertical-align: top;\n",
       "    }\n",
       "\n",
       "    .dataframe thead th {\n",
       "        text-align: right;\n",
       "    }\n",
       "</style>\n",
       "<table border=\"1\" class=\"dataframe\">\n",
       "  <thead>\n",
       "    <tr style=\"text-align: right;\">\n",
       "      <th></th>\n",
       "      <th>text</th>\n",
       "      <th>SUBJECT_ID</th>\n",
       "      <th>HADM_ID</th>\n",
       "      <th>ADMISSION_DAYS</th>\n",
       "      <th>GENDER</th>\n",
       "      <th>AGE</th>\n",
       "      <th>50801</th>\n",
       "      <th>50802</th>\n",
       "      <th>50803</th>\n",
       "      <th>50804</th>\n",
       "      <th>...</th>\n",
       "      <th>G11</th>\n",
       "      <th>G12</th>\n",
       "      <th>G13</th>\n",
       "      <th>G14</th>\n",
       "      <th>G15</th>\n",
       "      <th>G16</th>\n",
       "      <th>G17</th>\n",
       "      <th>G18</th>\n",
       "      <th>G19</th>\n",
       "      <th>G20</th>\n",
       "    </tr>\n",
       "  </thead>\n",
       "  <tbody>\n",
       "    <tr>\n",
       "      <td>47366</td>\n",
       "      <td>chest pa lat clip reason eval infiltr ________...</td>\n",
       "      <td>58526</td>\n",
       "      <td>100001</td>\n",
       "      <td>7</td>\n",
       "      <td>0</td>\n",
       "      <td>35</td>\n",
       "      <td>462.0</td>\n",
       "      <td>0.0</td>\n",
       "      <td>24.0</td>\n",
       "      <td>26.0</td>\n",
       "      <td>...</td>\n",
       "      <td>0</td>\n",
       "      <td>1</td>\n",
       "      <td>0</td>\n",
       "      <td>0</td>\n",
       "      <td>0</td>\n",
       "      <td>0</td>\n",
       "      <td>0</td>\n",
       "      <td>0</td>\n",
       "      <td>0</td>\n",
       "      <td>1</td>\n",
       "    </tr>\n",
       "    <tr>\n",
       "      <td>47024</td>\n",
       "      <td>pm liver gallbladd us singl organ clip reason ...</td>\n",
       "      <td>54610</td>\n",
       "      <td>100003</td>\n",
       "      <td>5</td>\n",
       "      <td>1</td>\n",
       "      <td>60</td>\n",
       "      <td>462.0</td>\n",
       "      <td>-6.0</td>\n",
       "      <td>24.0</td>\n",
       "      <td>17.0</td>\n",
       "      <td>...</td>\n",
       "      <td>0</td>\n",
       "      <td>1</td>\n",
       "      <td>0</td>\n",
       "      <td>0</td>\n",
       "      <td>0</td>\n",
       "      <td>1</td>\n",
       "      <td>0</td>\n",
       "      <td>0</td>\n",
       "      <td>0</td>\n",
       "      <td>0</td>\n",
       "    </tr>\n",
       "    <tr>\n",
       "      <td>9046</td>\n",
       "      <td>chest portabl ap clip reason pleas assess infi...</td>\n",
       "      <td>9895</td>\n",
       "      <td>100006</td>\n",
       "      <td>13</td>\n",
       "      <td>0</td>\n",
       "      <td>49</td>\n",
       "      <td>462.0</td>\n",
       "      <td>0.0</td>\n",
       "      <td>24.0</td>\n",
       "      <td>26.0</td>\n",
       "      <td>...</td>\n",
       "      <td>0</td>\n",
       "      <td>0</td>\n",
       "      <td>0</td>\n",
       "      <td>0</td>\n",
       "      <td>0</td>\n",
       "      <td>1</td>\n",
       "      <td>0</td>\n",
       "      <td>0</td>\n",
       "      <td>0</td>\n",
       "      <td>1</td>\n",
       "    </tr>\n",
       "    <tr>\n",
       "      <td>27709</td>\n",
       "      <td>admiss date discharg date date birth sex f ser...</td>\n",
       "      <td>23018</td>\n",
       "      <td>100007</td>\n",
       "      <td>8</td>\n",
       "      <td>0</td>\n",
       "      <td>74</td>\n",
       "      <td>462.0</td>\n",
       "      <td>5.0</td>\n",
       "      <td>24.0</td>\n",
       "      <td>31.0</td>\n",
       "      <td>...</td>\n",
       "      <td>0</td>\n",
       "      <td>0</td>\n",
       "      <td>0</td>\n",
       "      <td>0</td>\n",
       "      <td>0</td>\n",
       "      <td>0</td>\n",
       "      <td>0</td>\n",
       "      <td>1</td>\n",
       "      <td>0</td>\n",
       "      <td>0</td>\n",
       "    </tr>\n",
       "    <tr>\n",
       "      <td>843</td>\n",
       "      <td>pm chest pa lat clip reason pre op admit diagn...</td>\n",
       "      <td>533</td>\n",
       "      <td>100009</td>\n",
       "      <td>5</td>\n",
       "      <td>1</td>\n",
       "      <td>61</td>\n",
       "      <td>462.0</td>\n",
       "      <td>2.0</td>\n",
       "      <td>24.0</td>\n",
       "      <td>28.0</td>\n",
       "      <td>...</td>\n",
       "      <td>0</td>\n",
       "      <td>0</td>\n",
       "      <td>0</td>\n",
       "      <td>0</td>\n",
       "      <td>0</td>\n",
       "      <td>0</td>\n",
       "      <td>0</td>\n",
       "      <td>1</td>\n",
       "      <td>0</td>\n",
       "      <td>1</td>\n",
       "    </tr>\n",
       "    <tr>\n",
       "      <td>...</td>\n",
       "      <td>...</td>\n",
       "      <td>...</td>\n",
       "      <td>...</td>\n",
       "      <td>...</td>\n",
       "      <td>...</td>\n",
       "      <td>...</td>\n",
       "      <td>...</td>\n",
       "      <td>...</td>\n",
       "      <td>...</td>\n",
       "      <td>...</td>\n",
       "      <td>...</td>\n",
       "      <td>...</td>\n",
       "      <td>...</td>\n",
       "      <td>...</td>\n",
       "      <td>...</td>\n",
       "      <td>...</td>\n",
       "      <td>...</td>\n",
       "      <td>...</td>\n",
       "      <td>...</td>\n",
       "      <td>...</td>\n",
       "      <td>...</td>\n",
       "    </tr>\n",
       "    <tr>\n",
       "      <td>24035</td>\n",
       "      <td>chest portabl ap clip reason r effus _________...</td>\n",
       "      <td>20785</td>\n",
       "      <td>199993</td>\n",
       "      <td>25</td>\n",
       "      <td>1</td>\n",
       "      <td>60</td>\n",
       "      <td>653.0</td>\n",
       "      <td>1.0</td>\n",
       "      <td>26.0</td>\n",
       "      <td>28.0</td>\n",
       "      <td>...</td>\n",
       "      <td>0</td>\n",
       "      <td>0</td>\n",
       "      <td>0</td>\n",
       "      <td>0</td>\n",
       "      <td>0</td>\n",
       "      <td>0</td>\n",
       "      <td>0</td>\n",
       "      <td>0</td>\n",
       "      <td>0</td>\n",
       "      <td>0</td>\n",
       "    </tr>\n",
       "    <tr>\n",
       "      <td>30073</td>\n",
       "      <td>pm chest portabl ap clip reason pt self extub ...</td>\n",
       "      <td>23761</td>\n",
       "      <td>199994</td>\n",
       "      <td>10</td>\n",
       "      <td>0</td>\n",
       "      <td>58</td>\n",
       "      <td>343.0</td>\n",
       "      <td>-3.0</td>\n",
       "      <td>24.0</td>\n",
       "      <td>28.0</td>\n",
       "      <td>...</td>\n",
       "      <td>0</td>\n",
       "      <td>0</td>\n",
       "      <td>0</td>\n",
       "      <td>0</td>\n",
       "      <td>0</td>\n",
       "      <td>0</td>\n",
       "      <td>0</td>\n",
       "      <td>0</td>\n",
       "      <td>0</td>\n",
       "      <td>0</td>\n",
       "    </tr>\n",
       "    <tr>\n",
       "      <td>25219</td>\n",
       "      <td>pm abdomen u complet studi duplex dopp abd pel...</td>\n",
       "      <td>19412</td>\n",
       "      <td>199995</td>\n",
       "      <td>17</td>\n",
       "      <td>1</td>\n",
       "      <td>23</td>\n",
       "      <td>240.0</td>\n",
       "      <td>4.0</td>\n",
       "      <td>24.0</td>\n",
       "      <td>29.0</td>\n",
       "      <td>...</td>\n",
       "      <td>0</td>\n",
       "      <td>0</td>\n",
       "      <td>0</td>\n",
       "      <td>1</td>\n",
       "      <td>0</td>\n",
       "      <td>0</td>\n",
       "      <td>0</td>\n",
       "      <td>0</td>\n",
       "      <td>0</td>\n",
       "      <td>1</td>\n",
       "    </tr>\n",
       "    <tr>\n",
       "      <td>33394</td>\n",
       "      <td>pm chest port line placement clip reason line ...</td>\n",
       "      <td>27200</td>\n",
       "      <td>199998</td>\n",
       "      <td>6</td>\n",
       "      <td>1</td>\n",
       "      <td>70</td>\n",
       "      <td>462.0</td>\n",
       "      <td>2.0</td>\n",
       "      <td>24.0</td>\n",
       "      <td>26.0</td>\n",
       "      <td>...</td>\n",
       "      <td>0</td>\n",
       "      <td>0</td>\n",
       "      <td>0</td>\n",
       "      <td>0</td>\n",
       "      <td>0</td>\n",
       "      <td>1</td>\n",
       "      <td>0</td>\n",
       "      <td>1</td>\n",
       "      <td>1</td>\n",
       "      <td>1</td>\n",
       "    </tr>\n",
       "    <tr>\n",
       "      <td>38164</td>\n",
       "      <td>chest portabl ap clip reason interv chang admi...</td>\n",
       "      <td>40370</td>\n",
       "      <td>199999</td>\n",
       "      <td>6</td>\n",
       "      <td>1</td>\n",
       "      <td>89</td>\n",
       "      <td>588.0</td>\n",
       "      <td>1.0</td>\n",
       "      <td>24.0</td>\n",
       "      <td>25.0</td>\n",
       "      <td>...</td>\n",
       "      <td>0</td>\n",
       "      <td>0</td>\n",
       "      <td>0</td>\n",
       "      <td>0</td>\n",
       "      <td>0</td>\n",
       "      <td>1</td>\n",
       "      <td>1</td>\n",
       "      <td>0</td>\n",
       "      <td>0</td>\n",
       "      <td>1</td>\n",
       "    </tr>\n",
       "  </tbody>\n",
       "</table>\n",
       "<p>54509 rows × 506 columns</p>\n",
       "</div>"
      ],
      "text/plain": [
       "                                                    text  SUBJECT_ID  HADM_ID  \\\n",
       "47366  chest pa lat clip reason eval infiltr ________...       58526   100001   \n",
       "47024  pm liver gallbladd us singl organ clip reason ...       54610   100003   \n",
       "9046   chest portabl ap clip reason pleas assess infi...        9895   100006   \n",
       "27709  admiss date discharg date date birth sex f ser...       23018   100007   \n",
       "843    pm chest pa lat clip reason pre op admit diagn...         533   100009   \n",
       "...                                                  ...         ...      ...   \n",
       "24035  chest portabl ap clip reason r effus _________...       20785   199993   \n",
       "30073  pm chest portabl ap clip reason pt self extub ...       23761   199994   \n",
       "25219  pm abdomen u complet studi duplex dopp abd pel...       19412   199995   \n",
       "33394  pm chest port line placement clip reason line ...       27200   199998   \n",
       "38164  chest portabl ap clip reason interv chang admi...       40370   199999   \n",
       "\n",
       "       ADMISSION_DAYS  GENDER  AGE  50801  50802  50803  50804  ...  G11  G12  \\\n",
       "47366               7       0   35  462.0    0.0   24.0   26.0  ...    0    1   \n",
       "47024               5       1   60  462.0   -6.0   24.0   17.0  ...    0    1   \n",
       "9046               13       0   49  462.0    0.0   24.0   26.0  ...    0    0   \n",
       "27709               8       0   74  462.0    5.0   24.0   31.0  ...    0    0   \n",
       "843                 5       1   61  462.0    2.0   24.0   28.0  ...    0    0   \n",
       "...               ...     ...  ...    ...    ...    ...    ...  ...  ...  ...   \n",
       "24035              25       1   60  653.0    1.0   26.0   28.0  ...    0    0   \n",
       "30073              10       0   58  343.0   -3.0   24.0   28.0  ...    0    0   \n",
       "25219              17       1   23  240.0    4.0   24.0   29.0  ...    0    0   \n",
       "33394               6       1   70  462.0    2.0   24.0   26.0  ...    0    0   \n",
       "38164               6       1   89  588.0    1.0   24.0   25.0  ...    0    0   \n",
       "\n",
       "       G13  G14  G15  G16  G17  G18  G19  G20  \n",
       "47366    0    0    0    0    0    0    0    1  \n",
       "47024    0    0    0    1    0    0    0    0  \n",
       "9046     0    0    0    1    0    0    0    1  \n",
       "27709    0    0    0    0    0    1    0    0  \n",
       "843      0    0    0    0    0    1    0    1  \n",
       "...    ...  ...  ...  ...  ...  ...  ...  ...  \n",
       "24035    0    0    0    0    0    0    0    0  \n",
       "30073    0    0    0    0    0    0    0    0  \n",
       "25219    0    1    0    0    0    0    0    1  \n",
       "33394    0    0    0    1    0    1    1    1  \n",
       "38164    0    0    0    1    1    0    0    1  \n",
       "\n",
       "[54509 rows x 506 columns]"
      ]
     },
     "execution_count": 52,
     "metadata": {},
     "output_type": "execute_result"
    }
   ],
   "source": [
    "df1"
   ]
  },
  {
   "cell_type": "code",
   "execution_count": 18,
   "metadata": {},
   "outputs": [],
   "source": [
    "%run helper_functions.ipynb"
   ]
  },
  {
   "cell_type": "code",
   "execution_count": 19,
   "metadata": {},
   "outputs": [
    {
     "name": "stderr",
     "output_type": "stream",
     "text": [
      "/home/akshara/anaconda3/envs/mimic/lib/python3.7/site-packages/tensorflow/python/client/session.py:1735: UserWarning: An interactive session is already active. This can cause out-of-memory errors in some cases. You must explicitly call `InteractiveSession.close()` to release resources held by the other session(s).\n",
      "  warnings.warn('An interactive session is already active. This can '\n"
     ]
    }
   ],
   "source": [
    "from keras.models import load_model\n",
    "import tensorflow as tf\n",
    "gpu_options = tf.GPUOptions(allow_growth=True)\n",
    "session = tf.InteractiveSession(config=tf.ConfigProto(gpu_options=gpu_options))\n",
    "\n",
    "\n",
    "conv3 = load_model('conv3.h5',custom_objects={'squash_function': squash_function,\n",
    "                                              'AttentionWeightedAverage':AttentionWeightedAverage,\n",
    "                                              'Hamming_loss':Hamming_loss\n",
    "                                             })\n",
    "conv5 = load_model('conv5.h5',custom_objects={'squash_function': squash_function,\n",
    "                                              'AttentionWeightedAverage':AttentionWeightedAverage,\n",
    "                                              'Hamming_loss':Hamming_loss\n",
    "                                             })\n",
    "batch_size = 32\n",
    "y_pred_conv5_test = conv5.predict(x_test_txt, batch_size=batch_size)\n",
    "y_pred_conv3_test = conv3.predict(x_test_txt, batch_size=batch_size)\n",
    "y_pred_conv5_val = conv5.predict(test_val_txt, batch_size=batch_size)\n",
    "y_pred_conv3_val = conv3.predict(test_val_txt, batch_size=batch_size)\n",
    "\n",
    "# various models pkl files\n",
    "y_pred_capsnet_new3_test=pd.read_pickle(\"./y_pred_capsnet_new3_test.pkl\").values\n",
    "y_pred_capsnet_new3_val=pd.read_pickle(\"./y_pred_capsnet_new3_val.pkl\").values\n",
    "\n",
    "y_pred_transformer_capsule_test=pd.read_pickle(\"./y_pred_transformer+capsule_test.pkl\").values\n",
    "y_pred_transformer_capsule_val=pd.read_pickle(\"./y_pred_transformer+capsule_val.pkl\").values\n",
    "\n",
    "y_pred_transformer_approach3_test=pd.read_pickle(\"./y_pred_transformer_approach3_test.pkl\").values\n",
    "y_pred_transformer_approach3_val=pd.read_pickle(\"./y_pred_transformer_approach3_val.pkl\").values\n"
   ]
  },
  {
   "cell_type": "code",
   "execution_count": 24,
   "metadata": {},
   "outputs": [],
   "source": [
    "y_pred = np.log10(#1/6067*np.bitwise_or(y_pred_cat_test,y_pred_transformer_approach3_test_round)+\n",
    "            #1/3794*(y_pred_cat_test+y_pred_transformer_capsule_test_round)+\n",
    "        8177/3751*(y_pred_transformer_approach3_test)+\n",
    "        8177/4143*(y_pred_transformer_capsule_test)+ #??\n",
    "        #1/6227*np.bitwise_or(y_pred_cat_test,y_pred_conv3_round)+\n",
    "        #1/3673*np.bitwise_or(y_pred_cat_test,y_pred_conv5_round)+\n",
    "        8177/3886*(y_pred_conv3_test)+\n",
    "        8177/3852*(y_pred_conv5_test)\n",
    "+4*8177/3908*(y_pred_lgb_test))  "
   ]
  },
  {
   "cell_type": "code",
   "execution_count": 38,
   "metadata": {},
   "outputs": [
    {
     "name": "stdout",
     "output_type": "stream",
     "text": [
      "0.5752719714367132\n",
      "0.4480615240873262\n",
      "0.7000448489911834\n",
      "0.1549345725816314\n"
     ]
    }
   ],
   "source": [
    "y_pred =0.3*y_pred_lgb_test+0.25*y_pred_conv5_test+0.25*y_pred_transformer_capsule_test+0.2*y_pred_transformer_approach3_test\n",
    "\n",
    "y_pred_round_best = np.where(y_pred>0.55,1,0)\n",
    "\n",
    "\n",
    "\n",
    "from sklearn.metrics import jaccard_score,roc_auc_score,confusion_matrix,hamming_loss\n",
    "print(jaccard_score(y_test,y_pred_round_best,average='micro'))\n",
    "print(jaccard_score(y_test,y_pred_round_best,average='macro'))\n",
    "print(roc_auc_score(y_test,y_pred_round_best))\n",
    "print(hamming_loss(y_test,y_pred_round_best))"
   ]
  },
  {
   "cell_type": "code",
   "execution_count": 36,
   "metadata": {},
   "outputs": [],
   "source": [
    "y_pred_rnd =np.where(y_pred>0.8,1,0)"
   ]
  },
  {
   "cell_type": "code",
   "execution_count": 37,
   "metadata": {},
   "outputs": [
    {
     "name": "stdout",
     "output_type": "stream",
     "text": [
      "0.5929893821932855\n",
      "0.4728619296134524\n",
      "0.71137106905681\n",
      "0.15634095634095635\n"
     ]
    }
   ],
   "source": [
    "from sklearn.metrics import jaccard_score,roc_auc_score,confusion_matrix,hamming_loss,zero_one_loss\n",
    "print(jaccard_score(y_test,y_pred_rnd,average='micro'))\n",
    "print(jaccard_score(y_test,y_pred_rnd,average='macro'))\n",
    "print(roc_auc_score(y_test,y_pred_rnd))\n",
    "print(hamming_loss(y_test,y_pred_rnd))"
   ]
  },
  {
   "cell_type": "code",
   "execution_count": null,
   "metadata": {},
   "outputs": [],
   "source": []
  },
  {
   "cell_type": "code",
   "execution_count": 41,
   "metadata": {},
   "outputs": [],
   "source": [
    "#1 auc\n",
    "cm1 = []\n",
    "auc1=[]\n",
    "hamming1=[]\n",
    "prec1=[]\n",
    "recall1=[]\n",
    "\n",
    "cm2 = []\n",
    "auc2=[]\n",
    "hamming2=[]\n",
    "prec2=[]\n",
    "recall2=[]\n",
    "\n",
    "y_test_df = pd.DataFrame(y_test)\n",
    "y_pred_auc_df = pd.DataFrame(y_pred_rnd)\n",
    "y_pred_ham_df =  pd.DataFrame(y_pred_round_best)"
   ]
  },
  {
   "cell_type": "code",
   "execution_count": 43,
   "metadata": {},
   "outputs": [],
   "source": [
    "from sklearn.metrics import jaccard_score,roc_auc_score,confusion_matrix,hamming_loss,zero_one_loss,precision_recall_curve\n",
    "\n",
    "for i in range(20):\n",
    "    auc1.append(roc_auc_score(y_test_df.iloc[:,i].values,y_pred_auc_df.iloc[:,i].values))\n",
    "    hamming1.append(hamming_loss(y_test_df.iloc[:,i].values,y_pred_auc_df.iloc[:,i].values))\n",
    "    p,r,_=precision_recall_curve(y_test_df.iloc[:,i].values,y_pred_auc_df.iloc[:,i].values)\n",
    "    prec1.append(p)\n",
    "    recall1.append(r)\n",
    "    cm1.append(confusion_matrix(y_test_df.iloc[:,i].values,y_pred_auc_df.iloc[:,i].values))\n",
    "    \n",
    "    auc2.append(roc_auc_score(y_test_df.iloc[:,i].values,y_pred_ham_df.iloc[:,i].values))\n",
    "    hamming2.append(hamming_loss(y_test_df.iloc[:,i].values,y_pred_ham_df.iloc[:,i].values))\n",
    "    p,r,_=precision_recall_curve(y_test_df.iloc[:,i].values,y_pred_ham_df.iloc[:,i].values)\n",
    "    prec2.append(p)\n",
    "    recall2.append(r)\n",
    "    cm2.append(confusion_matrix(y_test_df.iloc[:,i].values,y_pred_ham_df.iloc[:,i].values))\n",
    "\n",
    "    "
   ]
  },
  {
   "cell_type": "code",
   "execution_count": 47,
   "metadata": {},
   "outputs": [
    {
     "data": {
      "text/plain": [
       "0.7376897503754913"
      ]
     },
     "execution_count": 47,
     "metadata": {},
     "output_type": "execute_result"
    }
   ],
   "source": [
    "sum(auc1)/20"
   ]
  },
  {
   "cell_type": "code",
   "execution_count": 45,
   "metadata": {},
   "outputs": [
    {
     "data": {
      "text/plain": [
       "[0.5164835164835165,\n",
       " 0.771187888820359,\n",
       " 0.7064553606259274,\n",
       " 0.729689286674527,\n",
       " 0.6770925497028805,\n",
       " 0.7443315925618625,\n",
       " 0.7916965759129709,\n",
       " 0.7891106898795079,\n",
       " 0.7665167968554293,\n",
       " 0.7937757823947101,\n",
       " 0.5555555555555556,\n",
       " 0.5857927168462062,\n",
       " 0.5795574264365472,\n",
       " 0.6207920162725655,\n",
       " 0.9951035470367923,\n",
       " 0.6691023920303449,\n",
       " 0.5,\n",
       " 0.7629371897842383,\n",
       " 0.7307588140761867,\n",
       " 0.7149572818735401]"
      ]
     },
     "execution_count": 45,
     "metadata": {},
     "output_type": "execute_result"
    }
   ],
   "source": [
    "auc2"
   ]
  },
  {
   "cell_type": "code",
   "execution_count": 66,
   "metadata": {},
   "outputs": [],
   "source": [
    "rows={}"
   ]
  },
  {
   "cell_type": "code",
   "execution_count": 62,
   "metadata": {},
   "outputs": [
    {
     "data": {
      "text/plain": [
       "Index(['G1', 'G2', 'G3', 'G4', 'G5', 'G6', 'G7', 'G8', 'G9', 'G10', 'G11',\n",
       "       'G12', 'G13', 'G14', 'G15', 'G16', 'G17', 'G18', 'G19', 'G20'],\n",
       "      dtype='object')"
      ]
     },
     "execution_count": 62,
     "metadata": {},
     "output_type": "execute_result"
    }
   ],
   "source": [
    "x1 = df1.iloc[:,:486]\n",
    "y1 = df1.iloc[:,486:]\n",
    "y1.columns"
   ]
  },
  {
   "cell_type": "code",
   "execution_count": 63,
   "metadata": {},
   "outputs": [],
   "source": [
    "\n",
    "seed = 40\n",
    "x_tra,x_test1,y_tra,y_test1 = train_test_split(x1,y1,test_size=0.15,random_state=seed)"
   ]
  },
  {
   "cell_type": "code",
   "execution_count": 68,
   "metadata": {},
   "outputs": [
    {
     "data": {
      "text/plain": [
       "(8177, 20)"
      ]
     },
     "execution_count": 68,
     "metadata": {},
     "output_type": "execute_result"
    }
   ],
   "source": [
    "y_pred_ham_df.shape"
   ]
  },
  {
   "cell_type": "code",
   "execution_count": 64,
   "metadata": {},
   "outputs": [
    {
     "ename": "IndexError",
     "evalue": "list assignment index out of range",
     "output_type": "error",
     "traceback": [
      "\u001b[0;31m---------------------------------------------------------------------------\u001b[0m",
      "\u001b[0;31mIndexError\u001b[0m                                Traceback (most recent call last)",
      "\u001b[0;32m<ipython-input-64-214855cf88e9>\u001b[0m in \u001b[0;36m<module>\u001b[0;34m\u001b[0m\n\u001b[1;32m      4\u001b[0m     \u001b[0mham\u001b[0m\u001b[0;34m=\u001b[0m\u001b[0mhamming_loss\u001b[0m\u001b[0;34m(\u001b[0m\u001b[0my_test_df\u001b[0m\u001b[0;34m.\u001b[0m\u001b[0miloc\u001b[0m\u001b[0;34m[\u001b[0m\u001b[0mi\u001b[0m\u001b[0;34m,\u001b[0m\u001b[0;34m:\u001b[0m\u001b[0;34m]\u001b[0m\u001b[0;34m.\u001b[0m\u001b[0mvalues\u001b[0m\u001b[0;34m,\u001b[0m\u001b[0my_pred_auc_df\u001b[0m\u001b[0;34m.\u001b[0m\u001b[0miloc\u001b[0m\u001b[0;34m[\u001b[0m\u001b[0mi\u001b[0m\u001b[0;34m,\u001b[0m\u001b[0;34m:\u001b[0m\u001b[0;34m]\u001b[0m\u001b[0;34m.\u001b[0m\u001b[0mvalues\u001b[0m\u001b[0;34m)\u001b[0m\u001b[0;34m\u001b[0m\u001b[0;34m\u001b[0m\u001b[0m\n\u001b[1;32m      5\u001b[0m     \u001b[0mp\u001b[0m\u001b[0;34m,\u001b[0m\u001b[0mr\u001b[0m\u001b[0;34m,\u001b[0m\u001b[0m_\u001b[0m\u001b[0;34m=\u001b[0m\u001b[0mprecision_recall_curve\u001b[0m\u001b[0;34m(\u001b[0m\u001b[0my_test_df\u001b[0m\u001b[0;34m.\u001b[0m\u001b[0miloc\u001b[0m\u001b[0;34m[\u001b[0m\u001b[0mi\u001b[0m\u001b[0;34m,\u001b[0m\u001b[0;34m:\u001b[0m\u001b[0;34m]\u001b[0m\u001b[0;34m.\u001b[0m\u001b[0mvalues\u001b[0m\u001b[0;34m,\u001b[0m\u001b[0my_pred_auc_df\u001b[0m\u001b[0;34m.\u001b[0m\u001b[0miloc\u001b[0m\u001b[0;34m[\u001b[0m\u001b[0mi\u001b[0m\u001b[0;34m,\u001b[0m\u001b[0;34m:\u001b[0m\u001b[0;34m]\u001b[0m\u001b[0;34m.\u001b[0m\u001b[0mvalues\u001b[0m\u001b[0;34m)\u001b[0m\u001b[0;34m\u001b[0m\u001b[0;34m\u001b[0m\u001b[0m\n\u001b[0;32m----> 6\u001b[0;31m     \u001b[0mrows\u001b[0m\u001b[0;34m[\u001b[0m\u001b[0mx_test1\u001b[0m\u001b[0;34m.\u001b[0m\u001b[0miloc\u001b[0m\u001b[0;34m[\u001b[0m\u001b[0mi\u001b[0m\u001b[0;34m,\u001b[0m\u001b[0;36m2\u001b[0m\u001b[0;34m]\u001b[0m\u001b[0;34m]\u001b[0m\u001b[0;34m=\u001b[0m\u001b[0;34m[\u001b[0m\u001b[0mauc\u001b[0m\u001b[0;34m,\u001b[0m\u001b[0mham\u001b[0m\u001b[0;34m,\u001b[0m\u001b[0mp\u001b[0m\u001b[0;34m,\u001b[0m\u001b[0mr\u001b[0m\u001b[0;34m]\u001b[0m\u001b[0;34m\u001b[0m\u001b[0;34m\u001b[0m\u001b[0m\n\u001b[0m\u001b[1;32m      7\u001b[0m     \u001b[0;31m#cm1.append(confusion_matrix(y_test_df.iloc[i,:].values,y_pred_auc_df.iloc[i,:].values))\u001b[0m\u001b[0;34m\u001b[0m\u001b[0;34m\u001b[0m\u001b[0;34m\u001b[0m\u001b[0m\n\u001b[1;32m      8\u001b[0m \u001b[0;34m\u001b[0m\u001b[0m\n",
      "\u001b[0;31mIndexError\u001b[0m: list assignment index out of range"
     ]
    }
   ],
   "source": [
    "for i in range(x_test1.shape[0]):\n",
    "    \n",
    "    auc=roc_auc_score(y_test_df.iloc[i,:].values,y_pred_auc_df.iloc[i,:].values)\n",
    "    ham=hamming_loss(y_test_df.iloc[i,:].values,y_pred_auc_df.iloc[i,:].values)\n",
    "    p,r,_=precision_recall_curve(y_test_df.iloc[i,:].values,y_pred_auc_df.iloc[i,:].values)\n",
    "    rows[x_test1.iloc[i,2]]=[auc,ham,p,r]\n",
    "    #cm1.append(confusion_matrix(y_test_df.iloc[i,:].values,y_pred_auc_df.iloc[i,:].values))\n",
    "    \n",
    "   "
   ]
  },
  {
   "cell_type": "code",
   "execution_count": null,
   "metadata": {},
   "outputs": [],
   "source": []
  }
 ],
 "metadata": {
  "kernelspec": {
   "display_name": "Python (mimic)",
   "language": "python",
   "name": "myenv"
  },
  "language_info": {
   "codemirror_mode": {
    "name": "ipython",
    "version": 3
   },
   "file_extension": ".py",
   "mimetype": "text/x-python",
   "name": "python",
   "nbconvert_exporter": "python",
   "pygments_lexer": "ipython3",
   "version": "3.7.4"
  }
 },
 "nbformat": 4,
 "nbformat_minor": 2
}
